{
 "cells": [
  {
   "cell_type": "code",
   "execution_count": null,
   "metadata": {},
   "outputs": [],
   "source": [
    "import pandas as pd\n",
    "import numpy as np"
   ]
  },
  {
   "cell_type": "code",
   "execution_count": null,
   "metadata": {},
   "outputs": [],
   "source": [
    "with open('smartprix.html','r',encoding='utf-8') as f:\n",
    "    html=f.read()\n",
    "    \n"
   ]
  },
  {
   "cell_type": "code",
   "execution_count": null,
   "metadata": {},
   "outputs": [],
   "source": [
    "from bs4 import BeautifulSoup\n"
   ]
  },
  {
   "cell_type": "code",
   "execution_count": null,
   "metadata": {},
   "outputs": [],
   "source": [
    "soup=BeautifulSoup(html,'lxml')\n",
    "#soup.prettify()"
   ]
  },
  {
   "cell_type": "code",
   "execution_count": null,
   "metadata": {},
   "outputs": [],
   "source": [
    "containers=soup.find_all('div',{'class':'sm-product has-tag has-features has-actions'})"
   ]
  },
  {
   "cell_type": "code",
   "execution_count": null,
   "metadata": {},
   "outputs": [],
   "source": [
    "len(containers)"
   ]
  },
  {
   "cell_type": "code",
   "execution_count": null,
   "metadata": {},
   "outputs": [],
   "source": [
    "name=[]\n",
    "price=[]\n",
    "specs=[]\n",
    "sim=[]\n",
    "processor=[]\n",
    "ram=[]\n",
    "battery=[]\n",
    "display=[]\n",
    "camera=[]\n",
    "card=[]\n",
    "os=[]\n",
    "\n",
    "\n",
    "\n",
    "\n",
    "for i in containers:#\n",
    "    try:\n",
    "        name.append(i.find('h2').text)\n",
    "    except:\n",
    "        name.append(np.nan)\n",
    "    try:\n",
    "        price.append(i.find('span',{'class':'price'}).text)\n",
    "    except:\n",
    "        price.append(np.nan)\n",
    "    try:\n",
    "        specs.append(i.find('div',{'class':'score rank-2-bg'}).find('b').text)\n",
    "    except:\n",
    "        specs.append(np.nan)\n",
    "    phone_description=i.find('ul',{'class':'sm-feat specs'}).find_all('li')\n",
    "    try:\n",
    "        sim.append(phone_description[0].text)\n",
    "        \n",
    "    except:\n",
    "        sim.append(np.nan)\n",
    "    try:\n",
    "        processor.append(phone_description[1].text)\n",
    "    except:\n",
    "        processor.append(np.nan)\n",
    "    try:\n",
    "        ram.append(phone_description[2].text)\n",
    "    except:\n",
    "        ram.append(np.nan)\n",
    "    try:\n",
    "        battery.append(phone_description[3].text)\n",
    "    except:\n",
    "        battery.append(np.nan)\n",
    "    try:\n",
    "        display.append(phone_description[4].text)\n",
    "    except:\n",
    "        display.append(np.nan)\n",
    "    try:\n",
    "        camera.append(phone_description[5].text)\n",
    "    except:\n",
    "        camera.append(np.nan)\n",
    "    try:\n",
    "        card.append(phone_description[6].text)\n",
    "    except:\n",
    "        card.append(np.nan)\n",
    "    try:\n",
    "        os.append(phone_description[7].text)\n",
    "    except:\n",
    "        os.append(np.nan)\n",
    "    "
   ]
  },
  {
   "cell_type": "code",
   "execution_count": null,
   "metadata": {},
   "outputs": [],
   "source": [
    "len(os)"
   ]
  },
  {
   "cell_type": "code",
   "execution_count": null,
   "metadata": {},
   "outputs": [],
   "source": [
    "len(name)"
   ]
  },
  {
   "cell_type": "code",
   "execution_count": null,
   "metadata": {},
   "outputs": [],
   "source": [
    "len(price)"
   ]
  },
  {
   "cell_type": "code",
   "execution_count": null,
   "metadata": {},
   "outputs": [],
   "source": [
    "len(specs)"
   ]
  },
  {
   "cell_type": "code",
   "execution_count": null,
   "metadata": {},
   "outputs": [],
   "source": [
    "df=pd.DataFrame({\n",
    "    'model':name,\n",
    "    'price':price,\n",
    "    'rating':specs})\n"
   ]
  },
  {
   "cell_type": "code",
   "execution_count": null,
   "metadata": {},
   "outputs": [],
   "source": [
    "df"
   ]
  },
  {
   "cell_type": "code",
   "execution_count": null,
   "metadata": {},
   "outputs": [],
   "source": [
    "df.isnull().sum()"
   ]
  },
  {
   "cell_type": "code",
   "execution_count": null,
   "metadata": {},
   "outputs": [],
   "source": [
    "df = pd.DataFrame({\n",
    "    'model':name,\n",
    "    'price':price,\n",
    "    'rating':specs,\n",
    "    'sim':sim,\n",
    "    'processor':processor,\n",
    "    'ram':ram,\n",
    "    'battery':battery,\n",
    "    'display':display,\n",
    "    'camera':camera,\n",
    "    'card':card,\n",
    "    'os':os\n",
    "})\n",
    "\n",
    "\n",
    "\n"
   ]
  },
  {
   "cell_type": "code",
   "execution_count": null,
   "metadata": {},
   "outputs": [],
   "source": [
    "df"
   ]
  },
  {
   "cell_type": "code",
   "execution_count": null,
   "metadata": {},
   "outputs": [],
   "source": [
    "df.info()"
   ]
  },
  {
   "cell_type": "code",
   "execution_count": null,
   "metadata": {},
   "outputs": [],
   "source": []
  }
 ],
 "metadata": {
  "kernelspec": {
   "display_name": "Python 3",
   "language": "python",
   "name": "python3"
  },
  "language_info": {
   "codemirror_mode": {
    "name": "ipython",
    "version": 3
   },
   "file_extension": ".py",
   "mimetype": "text/x-python",
   "name": "python",
   "nbconvert_exporter": "python",
   "pygments_lexer": "ipython3",
   "version": "3.7.1"
  }
 },
 "nbformat": 4,
 "nbformat_minor": 2
}
